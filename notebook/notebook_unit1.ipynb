{
 "cells": [
  {
   "cell_type": "markdown",
   "metadata": {},
   "source": [
    "**Sustainable Software Development, block course, March 2021**  \n",
    "*Scientific Software Center, Institute for Scientific Computing, Dr. Inga Ulusoy*\n",
    "\n",
    "# Analysis of the data\n",
    "\n",
    "Imagine you perform a \"measurement\" of some type and obtain \"scientific data\". You know what your data represents, but you have only a vague idea how different features in the data are connected, and what information you can extract from the data.\n",
    "\n",
    "You would start first with going through the data, making sure your data set is complete and that the result is reasonable. Imagine this already happened.\n",
    "\n",
    "In the next step, you would inspect your data more closely and try to identify structures. That is the step that we are focusing on in this unit.\n",
    "\n",
    "In the `data` folder, you will find several data files (`*.t` and `*.dat`). These are data files generated through some \"new approach\" that hasn't been used in your lab before. No previous analysis software exists, and you are going to establish a protocol for this \"new approach\" and \"publish your results\".\n",
    "\n",
    "The data can be grouped into two categories: \n",
    "1. data to be analyzed using statistical methods;\n",
    "2. data to be analyzed using numerical methods.\n",
    "\n",
    "In your hypothetical lab, you are an \"expert\" in one particular \"method\", and your co-worker is an \"expert\" in the other. Combined these two methods will lead to much more impactful results than if only one of you analyzed the data. Now, the task in this course is to be solved collaboratively with your team member working on one of the analysis approaches, and you working on the other. You will both implement functionality into the same piece of \"software\", but do so collaboratively through git.\n",
    "\n",
    "As you do not know yet which analysis is most meaningful for your data, and how to implement it, you will start with a jupyter notebook. You and your team member will work on the same notebook that will be part of a github repository for your project. This is the task for today. Discuss with your team members who will work on the statistical and who on the numerical analysis."
   ]
  },
  {
   "cell_type": "markdown",
   "metadata": {},
   "source": [
    "## Step 1\n",
    "\n",
    "Accept the assignment through GitHub classroom."
   ]
  },
  {
   "cell_type": "markdown",
   "metadata": {},
   "source": [
    "## Step 2\n",
    "\n",
    "Clone the repository to your local machine."
   ]
  },
  {
   "cell_type": "markdown",
   "metadata": {},
   "source": [
    "## Step 3\n",
    "\n",
    "Start working on task 1 for your analysis approach. "
   ]
  },
  {
   "cell_type": "markdown",
   "metadata": {},
   "source": [
    "## Step 4\n",
    "\n",
    "Create your own branch of the repository and commit your changes to your branch; push to the remote repository."
   ]
  },
  {
   "cell_type": "markdown",
   "metadata": {},
   "source": [
    "## Step 5\n",
    "\n",
    "Open a `pull request` so your team member can review your implementation. Likewise, your team member will ask you to review theirs."
   ]
  },
  {
   "cell_type": "markdown",
   "metadata": {},
   "source": [
    "## Step 6\n",
    "\n",
    "Merge the changes in your branch into `main`. Resolve conflicts."
   ]
  },
  {
   "cell_type": "markdown",
   "metadata": {},
   "source": [
    "## Step 7\n",
    "\n",
    "Repeat working on task; committing and pushing to your previously generated branch or a new branch; open a pull request; merge with main; until you have finished all the tasks in your analysis approach. Delete obsolete branches."
   ]
  },
  {
   "cell_type": "markdown",
   "metadata": {},
   "source": [
    "# Start of the analysis notebook\n",
    "\n",
    "**Author : Lynn Buchele**  \n",
    "*Date : 22.01.2024*  \n",
    "*Affiliation : The entity under whose name you are working on this*  \n",
    "\n",
    "Place the required modules in the top, followed by required constants and global functions."
   ]
  },
  {
   "cell_type": "code",
   "execution_count": 1,
   "metadata": {},
   "outputs": [],
   "source": [
    "# Required modules\n",
    "import pandas as pd\n",
    "import matplotlib.pyplot as plt\n",
    "import seaborn\n",
    "import numpy as np "
   ]
  },
  {
   "cell_type": "code",
   "execution_count": 2,
   "metadata": {},
   "outputs": [],
   "source": [
    "# Constants and global functions\n",
    "\n",
    "def drop_low_variance(data_frame, var_threshold):\n",
    "    \"\"\"Drop columns from the data frame with variance below a threshold.\"\"\"\n",
    "    \n",
    "    # Get the columns to drop\n",
    "    columns_to_drop = [col for col in data_frame.columns if data_frame.var()[col] < var_threshold]\n",
    "\n",
    "    # Print a message about the columns to drop\n",
    "    print('These columns will be discarded as their variance is below the set threshold', columns_to_drop)\n",
    "\n",
    "    # Drop the columns from the data frame\n",
    "    data_frame.drop(columns=columns_to_drop, inplace=True)\n",
    "\n",
    "    return data_frame"
   ]
  },
  {
   "cell_type": "code",
   "execution_count": 3,
   "metadata": {},
   "outputs": [],
   "source": [
    "# Reading of the data files"
   ]
  },
  {
   "cell_type": "markdown",
   "metadata": {},
   "source": [
    "# Statistical analysis\n",
    "\n",
    "Find correlations in the data sets. Analyse the data statistically and plot your results.  \n",
    "\n",
    "Here we would want to do everything with pandas and leave the data in a dataframe. The files that are relevant to you are `expect.t`, `npop.t` and `table.dat`."
   ]
  },
  {
   "cell_type": "markdown",
   "metadata": {},
   "source": [
    "### Task 1: Read in expec.t and plot relevant data"
   ]
  },
  {
   "cell_type": "code",
   "execution_count": 4,
   "metadata": {},
   "outputs": [],
   "source": [
    "# Read the expec.t file\n",
    "expect_dat = pd.read_csv('../data/expec.t', sep='\\s+') #noqa"
   ]
  },
  {
   "cell_type": "code",
   "execution_count": 5,
   "metadata": {},
   "outputs": [
    {
     "data": {
      "text/html": [
       "<div>\n",
       "<style scoped>\n",
       "    .dataframe tbody tr th:only-of-type {\n",
       "        vertical-align: middle;\n",
       "    }\n",
       "\n",
       "    .dataframe tbody tr th {\n",
       "        vertical-align: top;\n",
       "    }\n",
       "\n",
       "    .dataframe thead th {\n",
       "        text-align: right;\n",
       "    }\n",
       "</style>\n",
       "<table border=\"1\" class=\"dataframe\">\n",
       "  <thead>\n",
       "    <tr style=\"text-align: right;\">\n",
       "      <th></th>\n",
       "      <th>time</th>\n",
       "      <th>norm</th>\n",
       "      <th>&lt;x&gt;</th>\n",
       "      <th>&lt;y&gt;</th>\n",
       "      <th>&lt;z&gt;</th>\n",
       "      <th>&lt;H&gt;</th>\n",
       "    </tr>\n",
       "  </thead>\n",
       "  <tbody>\n",
       "    <tr>\n",
       "      <th>0</th>\n",
       "      <td>0.0</td>\n",
       "      <td>1.0</td>\n",
       "      <td>0.0</td>\n",
       "      <td>0.0</td>\n",
       "      <td>-2.196320</td>\n",
       "      <td>0.000000</td>\n",
       "    </tr>\n",
       "    <tr>\n",
       "      <th>1</th>\n",
       "      <td>0.1</td>\n",
       "      <td>1.0</td>\n",
       "      <td>0.0</td>\n",
       "      <td>0.0</td>\n",
       "      <td>-2.196320</td>\n",
       "      <td>0.000000</td>\n",
       "    </tr>\n",
       "    <tr>\n",
       "      <th>2</th>\n",
       "      <td>0.2</td>\n",
       "      <td>1.0</td>\n",
       "      <td>-0.0</td>\n",
       "      <td>0.0</td>\n",
       "      <td>-2.196320</td>\n",
       "      <td>0.000000</td>\n",
       "    </tr>\n",
       "    <tr>\n",
       "      <th>3</th>\n",
       "      <td>0.3</td>\n",
       "      <td>1.0</td>\n",
       "      <td>-0.0</td>\n",
       "      <td>0.0</td>\n",
       "      <td>-2.196320</td>\n",
       "      <td>0.000000</td>\n",
       "    </tr>\n",
       "    <tr>\n",
       "      <th>4</th>\n",
       "      <td>0.4</td>\n",
       "      <td>1.0</td>\n",
       "      <td>-0.0</td>\n",
       "      <td>0.0</td>\n",
       "      <td>-2.196320</td>\n",
       "      <td>0.000000</td>\n",
       "    </tr>\n",
       "    <tr>\n",
       "      <th>...</th>\n",
       "      <td>...</td>\n",
       "      <td>...</td>\n",
       "      <td>...</td>\n",
       "      <td>...</td>\n",
       "      <td>...</td>\n",
       "      <td>...</td>\n",
       "    </tr>\n",
       "    <tr>\n",
       "      <th>96</th>\n",
       "      <td>9.6</td>\n",
       "      <td>1.0</td>\n",
       "      <td>0.0</td>\n",
       "      <td>-0.0</td>\n",
       "      <td>-2.012171</td>\n",
       "      <td>0.032949</td>\n",
       "    </tr>\n",
       "    <tr>\n",
       "      <th>97</th>\n",
       "      <td>9.7</td>\n",
       "      <td>1.0</td>\n",
       "      <td>0.0</td>\n",
       "      <td>0.0</td>\n",
       "      <td>-1.441347</td>\n",
       "      <td>0.032949</td>\n",
       "    </tr>\n",
       "    <tr>\n",
       "      <th>98</th>\n",
       "      <td>9.8</td>\n",
       "      <td>1.0</td>\n",
       "      <td>0.0</td>\n",
       "      <td>0.0</td>\n",
       "      <td>-0.982419</td>\n",
       "      <td>0.032949</td>\n",
       "    </tr>\n",
       "    <tr>\n",
       "      <th>99</th>\n",
       "      <td>9.9</td>\n",
       "      <td>1.0</td>\n",
       "      <td>-0.0</td>\n",
       "      <td>0.0</td>\n",
       "      <td>-0.759304</td>\n",
       "      <td>0.032949</td>\n",
       "    </tr>\n",
       "    <tr>\n",
       "      <th>100</th>\n",
       "      <td>10.0</td>\n",
       "      <td>1.0</td>\n",
       "      <td>-0.0</td>\n",
       "      <td>0.0</td>\n",
       "      <td>-0.629835</td>\n",
       "      <td>0.032949</td>\n",
       "    </tr>\n",
       "  </tbody>\n",
       "</table>\n",
       "<p>101 rows × 6 columns</p>\n",
       "</div>"
      ],
      "text/plain": [
       "     time  norm  <x>  <y>       <z>       <H>\n",
       "0     0.0   1.0  0.0  0.0 -2.196320  0.000000\n",
       "1     0.1   1.0  0.0  0.0 -2.196320  0.000000\n",
       "2     0.2   1.0 -0.0  0.0 -2.196320  0.000000\n",
       "3     0.3   1.0 -0.0  0.0 -2.196320  0.000000\n",
       "4     0.4   1.0 -0.0  0.0 -2.196320  0.000000\n",
       "..    ...   ...  ...  ...       ...       ...\n",
       "96    9.6   1.0  0.0 -0.0 -2.012171  0.032949\n",
       "97    9.7   1.0  0.0  0.0 -1.441347  0.032949\n",
       "98    9.8   1.0  0.0  0.0 -0.982419  0.032949\n",
       "99    9.9   1.0 -0.0  0.0 -0.759304  0.032949\n",
       "100  10.0   1.0 -0.0  0.0 -0.629835  0.032949\n",
       "\n",
       "[101 rows x 6 columns]"
      ]
     },
     "execution_count": 5,
     "metadata": {},
     "output_type": "execute_result"
    }
   ],
   "source": [
    "# Plot the file content\n",
    "expect_dat"
   ]
  },
  {
   "cell_type": "markdown",
   "metadata": {},
   "source": [
    "We can discard the entries norm, \\<x>, and \\<y> as these are mostly constant."
   ]
  },
  {
   "cell_type": "code",
   "execution_count": 6,
   "metadata": {},
   "outputs": [
    {
     "name": "stdout",
     "output_type": "stream",
     "text": [
      "These columns will be discarded as their variance is below the set threshold ['norm', '<x>', '<y>']\n"
     ]
    }
   ],
   "source": [
    "# Eliminate columns based on the variance: if the variance of the values\n",
    "# in a column is below a given threshold, that column is discarded\n",
    "expect_dat = drop_low_variance(expect_dat, 1e-5)  # var threshold taken from inspecting data"
   ]
  },
  {
   "cell_type": "markdown",
   "metadata": {},
   "source": [
    "### Task 2: Create plots of the relevant data and save as .pdf."
   ]
  },
  {
   "cell_type": "code",
   "execution_count": 9,
   "metadata": {},
   "outputs": [
    {
     "data": {
      "text/plain": [
       "<Figure size 2880x2880 with 0 Axes>"
      ]
     },
     "metadata": {},
     "output_type": "display_data"
    },
    {
     "data": {
      "image/png": "[encoded data removed]",
      "text/plain": [
       "<Figure size 540x540 with 12 Axes>"
      ]
     },
     "metadata": {
      "needs_background": "light"
     },
     "output_type": "display_data"
    }
   ],
   "source": [
    "# Open a figure with specific size\n",
    "plt.figure(figsize=[40, 40])\n",
    "\n",
    "# Create a pairplot\n",
    "seaborn.pairplot(expect_dat)  # Use pairplot since we're looking for correlations\n",
    "\n",
    "# Save the plot as a .pdf\n",
    "plt.savefig('../results/expect_data_pairplot.pdf', format='pdf')"
   ]
  },
  {
   "cell_type": "markdown",
   "metadata": {},
   "source": [
    "### Task 3: Read in file `npop.t` and analyze correlations in the data"
   ]
  },
  {
   "cell_type": "code",
   "execution_count": 10,
   "metadata": {},
   "outputs": [],
   "source": [
    "# Read the npop.t file\n",
    "npop_dat = pd.read_csv('../data/npop.t', sep='\\s+') #noqa"
   ]
  },
  {
   "cell_type": "code",
   "execution_count": 11,
   "metadata": {},
   "outputs": [
    {
     "name": "stdout",
     "output_type": "stream",
     "text": [
      "These columns will be discarded as their variance is below the set threshold ['MO1', 'MO2', 'MO5', 'MO7', 'MO8', 'MO9', 'MO10', 'MO13', 'MO15', 'MO16', 'MO17', 'MO18', 'MO19', 'MO20', 'MO21', 'MO22', 'MO23', 'MO24', 'MO25', 'MO26', 'MO27', 'MO28', 'MO29', 'MO30', 'MO31', 'MO32', 'MO33', 'MO34', 'MO35', 'MO36', 'MO37', 'MO38']\n"
     ]
    }
   ],
   "source": [
    "# Discard all columns with variance below a set threshold - we can consider them as constant\n",
    "npop_dat = drop_low_variance(npop_dat, 1e-5)  # keep var threshold from previous data"
   ]
  },
  {
   "cell_type": "code",
   "execution_count": 12,
   "metadata": {},
   "outputs": [
    {
     "data": {
      "text/html": [
       "<div>\n",
       "<style scoped>\n",
       "    .dataframe tbody tr th:only-of-type {\n",
       "        vertical-align: middle;\n",
       "    }\n",
       "\n",
       "    .dataframe tbody tr th {\n",
       "        vertical-align: top;\n",
       "    }\n",
       "\n",
       "    .dataframe thead th {\n",
       "        text-align: right;\n",
       "    }\n",
       "</style>\n",
       "<table border=\"1\" class=\"dataframe\">\n",
       "  <thead>\n",
       "    <tr style=\"text-align: right;\">\n",
       "      <th></th>\n",
       "      <th>time</th>\n",
       "      <th>MO3</th>\n",
       "      <th>MO4</th>\n",
       "      <th>MO6</th>\n",
       "      <th>MO11</th>\n",
       "      <th>MO12</th>\n",
       "      <th>MO14</th>\n",
       "    </tr>\n",
       "  </thead>\n",
       "  <tbody>\n",
       "    <tr>\n",
       "      <th>0</th>\n",
       "      <td>0.0</td>\n",
       "      <td>0.976819</td>\n",
       "      <td>0.976330</td>\n",
       "      <td>0.005711</td>\n",
       "      <td>0.004568</td>\n",
       "      <td>0.006659</td>\n",
       "      <td>0.000107</td>\n",
       "    </tr>\n",
       "    <tr>\n",
       "      <th>1</th>\n",
       "      <td>0.1</td>\n",
       "      <td>0.976819</td>\n",
       "      <td>0.976330</td>\n",
       "      <td>0.005711</td>\n",
       "      <td>0.004568</td>\n",
       "      <td>0.006659</td>\n",
       "      <td>0.000107</td>\n",
       "    </tr>\n",
       "    <tr>\n",
       "      <th>2</th>\n",
       "      <td>0.2</td>\n",
       "      <td>0.976819</td>\n",
       "      <td>0.976330</td>\n",
       "      <td>0.005711</td>\n",
       "      <td>0.004568</td>\n",
       "      <td>0.006659</td>\n",
       "      <td>0.000107</td>\n",
       "    </tr>\n",
       "    <tr>\n",
       "      <th>3</th>\n",
       "      <td>0.3</td>\n",
       "      <td>0.976819</td>\n",
       "      <td>0.976330</td>\n",
       "      <td>0.005711</td>\n",
       "      <td>0.004568</td>\n",
       "      <td>0.006659</td>\n",
       "      <td>0.000107</td>\n",
       "    </tr>\n",
       "    <tr>\n",
       "      <th>4</th>\n",
       "      <td>0.4</td>\n",
       "      <td>0.976819</td>\n",
       "      <td>0.976330</td>\n",
       "      <td>0.005711</td>\n",
       "      <td>0.004568</td>\n",
       "      <td>0.006659</td>\n",
       "      <td>0.000107</td>\n",
       "    </tr>\n",
       "    <tr>\n",
       "      <th>...</th>\n",
       "      <td>...</td>\n",
       "      <td>...</td>\n",
       "      <td>...</td>\n",
       "      <td>...</td>\n",
       "      <td>...</td>\n",
       "      <td>...</td>\n",
       "      <td>...</td>\n",
       "    </tr>\n",
       "    <tr>\n",
       "      <th>96</th>\n",
       "      <td>9.6</td>\n",
       "      <td>0.958403</td>\n",
       "      <td>0.797274</td>\n",
       "      <td>0.148098</td>\n",
       "      <td>0.012219</td>\n",
       "      <td>0.027792</td>\n",
       "      <td>0.014994</td>\n",
       "    </tr>\n",
       "    <tr>\n",
       "      <th>97</th>\n",
       "      <td>9.7</td>\n",
       "      <td>0.957587</td>\n",
       "      <td>0.804826</td>\n",
       "      <td>0.093095</td>\n",
       "      <td>0.012243</td>\n",
       "      <td>0.030818</td>\n",
       "      <td>0.059735</td>\n",
       "    </tr>\n",
       "    <tr>\n",
       "      <th>98</th>\n",
       "      <td>9.8</td>\n",
       "      <td>0.954496</td>\n",
       "      <td>0.794074</td>\n",
       "      <td>0.128985</td>\n",
       "      <td>0.012491</td>\n",
       "      <td>0.020341</td>\n",
       "      <td>0.046814</td>\n",
       "    </tr>\n",
       "    <tr>\n",
       "      <th>99</th>\n",
       "      <td>9.9</td>\n",
       "      <td>0.950438</td>\n",
       "      <td>0.783889</td>\n",
       "      <td>0.144308</td>\n",
       "      <td>0.017117</td>\n",
       "      <td>0.032180</td>\n",
       "      <td>0.027780</td>\n",
       "    </tr>\n",
       "    <tr>\n",
       "      <th>100</th>\n",
       "      <td>10.0</td>\n",
       "      <td>0.950052</td>\n",
       "      <td>0.783028</td>\n",
       "      <td>0.154622</td>\n",
       "      <td>0.018999</td>\n",
       "      <td>0.032437</td>\n",
       "      <td>0.020387</td>\n",
       "    </tr>\n",
       "  </tbody>\n",
       "</table>\n",
       "<p>101 rows × 7 columns</p>\n",
       "</div>"
      ],
      "text/plain": [
       "     time       MO3       MO4       MO6      MO11      MO12      MO14\n",
       "0     0.0  0.976819  0.976330  0.005711  0.004568  0.006659  0.000107\n",
       "1     0.1  0.976819  0.976330  0.005711  0.004568  0.006659  0.000107\n",
       "2     0.2  0.976819  0.976330  0.005711  0.004568  0.006659  0.000107\n",
       "3     0.3  0.976819  0.976330  0.005711  0.004568  0.006659  0.000107\n",
       "4     0.4  0.976819  0.976330  0.005711  0.004568  0.006659  0.000107\n",
       "..    ...       ...       ...       ...       ...       ...       ...\n",
       "96    9.6  0.958403  0.797274  0.148098  0.012219  0.027792  0.014994\n",
       "97    9.7  0.957587  0.804826  0.093095  0.012243  0.030818  0.059735\n",
       "98    9.8  0.954496  0.794074  0.128985  0.012491  0.020341  0.046814\n",
       "99    9.9  0.950438  0.783889  0.144308  0.017117  0.032180  0.027780\n",
       "100  10.0  0.950052  0.783028  0.154622  0.018999  0.032437  0.020387\n",
       "\n",
       "[101 rows x 7 columns]"
      ]
     },
     "execution_count": 12,
     "metadata": {},
     "output_type": "execute_result"
    }
   ],
   "source": [
    "# Plot the file content\n",
    "npop_dat"
   ]
  },
  {
   "cell_type": "markdown",
   "metadata": {},
   "source": [
    "Plot the remaining columns. Seaborn prefers \"long format\" (one column for all measurement values, one column to indicate the type) as input, whereas the cvs is in \"wide format\" (one column per measurement type)."
   ]
  },
  {
   "cell_type": "code",
   "execution_count": 13,
   "metadata": {},
   "outputs": [
    {
     "data": {
      "text/plain": [
       "<seaborn.axisgrid.PairGrid at 0x7f98cf6dc590>"
      ]
     },
     "execution_count": 13,
     "metadata": {},
     "output_type": "execute_result"
    },
    {
     "data": {
      "text/plain": [
       "<Figure size 2880x2880 with 0 Axes>"
      ]
     },
     "metadata": {},
     "output_type": "display_data"
    },
    {
     "data": {
      "image/png": "[encoded data removed]",
      "text/plain": [
       "<Figure size 1260x1260 with 56 Axes>"
      ]
     },
     "metadata": {
      "needs_background": "light"
     },
     "output_type": "display_data"
    }
   ],
   "source": [
    "# Open a figure\n",
    "plt.figure(figsize=[40, 40])\n",
    "\n",
    "# Create a pairplot\n",
    "seaborn.pairplot(npop_dat)"
   ]
  },
  {
   "cell_type": "markdown",
   "metadata": {},
   "source": [
    "## Quantify the pairwise correlation in the data\n",
    "\n",
    "- negative correlation: y values decrease for increasing x - large values of one feature correspond to small values of the other feature\n",
    "- weak or no correlation: no trend observable, association between two features is hardly observable\n",
    "- positive correlation: y values increase for decreasing x - small values of one feature correspond to small values of the other feature\n",
    "\n",
    "Remember that correlation does not indicate causation - the reason that two features are associated can lie in their dependence on same factors.\n",
    "\n",
    "Correlate the value pairs using Pearson's $r$. Pearson's $r$ is a measure of the linear relationship between features:\n",
    "\n",
    "$r = \\frac{\\sum_i(x_i − \\bar{x})(y_i − \\bar{y})}{\\sqrt{\\sum_i(x_i − \\bar{x})^2 \\sum_i(y_i − \\bar{y})^2}}$\n",
    "\n",
    "Here, $\\bar{x}$ and $\\bar{y}$ indicate mean values. $i$ runs over the whole data set. For a positive correlation, $r$ is positive, and negative for a negative correlation, with minimum and maximum values of -1 and 1, indicating a perfectly linear relationship. Weakly or not correlated features are characterized by $r$-values close to 0.\n",
    "\n",
    "Other measures of correlation that can be used are Spearman's rank (value pairs follow monotonic function) or Kendall's $\\tau$ (measures ordinal association), but they do not apply here. You can also define measures yourself."
   ]
  },
  {
   "cell_type": "code",
   "execution_count": 17,
   "metadata": {},
   "outputs": [
    {
     "data": {
      "text/html": [
       "<div>\n",
       "<style scoped>\n",
       "    .dataframe tbody tr th:only-of-type {\n",
       "        vertical-align: middle;\n",
       "    }\n",
       "\n",
       "    .dataframe tbody tr th {\n",
       "        vertical-align: top;\n",
       "    }\n",
       "\n",
       "    .dataframe thead th {\n",
       "        text-align: right;\n",
       "    }\n",
       "</style>\n",
       "<table border=\"1\" class=\"dataframe\">\n",
       "  <thead>\n",
       "    <tr style=\"text-align: right;\">\n",
       "      <th></th>\n",
       "      <th>time</th>\n",
       "      <th>MO3</th>\n",
       "      <th>MO4</th>\n",
       "      <th>MO6</th>\n",
       "      <th>MO11</th>\n",
       "      <th>MO12</th>\n",
       "      <th>MO14</th>\n",
       "    </tr>\n",
       "  </thead>\n",
       "  <tbody>\n",
       "    <tr>\n",
       "      <th>time</th>\n",
       "      <td>1.000000</td>\n",
       "      <td>-0.714730</td>\n",
       "      <td>-0.740092</td>\n",
       "      <td>0.753839</td>\n",
       "      <td>0.675510</td>\n",
       "      <td>0.633522</td>\n",
       "      <td>0.412123</td>\n",
       "    </tr>\n",
       "    <tr>\n",
       "      <th>MO3</th>\n",
       "      <td>-0.714730</td>\n",
       "      <td>1.000000</td>\n",
       "      <td>0.926317</td>\n",
       "      <td>-0.907659</td>\n",
       "      <td>-0.966070</td>\n",
       "      <td>-0.818545</td>\n",
       "      <td>-0.590497</td>\n",
       "    </tr>\n",
       "    <tr>\n",
       "      <th>MO4</th>\n",
       "      <td>-0.740092</td>\n",
       "      <td>0.926317</td>\n",
       "      <td>1.000000</td>\n",
       "      <td>-0.964051</td>\n",
       "      <td>-0.844402</td>\n",
       "      <td>-0.782851</td>\n",
       "      <td>-0.726726</td>\n",
       "    </tr>\n",
       "    <tr>\n",
       "      <th>MO6</th>\n",
       "      <td>0.753839</td>\n",
       "      <td>-0.907659</td>\n",
       "      <td>-0.964051</td>\n",
       "      <td>1.000000</td>\n",
       "      <td>0.841446</td>\n",
       "      <td>0.699677</td>\n",
       "      <td>0.538846</td>\n",
       "    </tr>\n",
       "    <tr>\n",
       "      <th>MO11</th>\n",
       "      <td>0.675510</td>\n",
       "      <td>-0.966070</td>\n",
       "      <td>-0.844402</td>\n",
       "      <td>0.841446</td>\n",
       "      <td>1.000000</td>\n",
       "      <td>0.855583</td>\n",
       "      <td>0.447701</td>\n",
       "    </tr>\n",
       "    <tr>\n",
       "      <th>MO12</th>\n",
       "      <td>0.633522</td>\n",
       "      <td>-0.818545</td>\n",
       "      <td>-0.782851</td>\n",
       "      <td>0.699677</td>\n",
       "      <td>0.855583</td>\n",
       "      <td>1.000000</td>\n",
       "      <td>0.514489</td>\n",
       "    </tr>\n",
       "    <tr>\n",
       "      <th>MO14</th>\n",
       "      <td>0.412123</td>\n",
       "      <td>-0.590497</td>\n",
       "      <td>-0.726726</td>\n",
       "      <td>0.538846</td>\n",
       "      <td>0.447701</td>\n",
       "      <td>0.514489</td>\n",
       "      <td>1.000000</td>\n",
       "    </tr>\n",
       "  </tbody>\n",
       "</table>\n",
       "</div>"
      ],
      "text/plain": [
       "          time       MO3       MO4       MO6      MO11      MO12      MO14\n",
       "time  1.000000 -0.714730 -0.740092  0.753839  0.675510  0.633522  0.412123\n",
       "MO3  -0.714730  1.000000  0.926317 -0.907659 -0.966070 -0.818545 -0.590497\n",
       "MO4  -0.740092  0.926317  1.000000 -0.964051 -0.844402 -0.782851 -0.726726\n",
       "MO6   0.753839 -0.907659 -0.964051  1.000000  0.841446  0.699677  0.538846\n",
       "MO11  0.675510 -0.966070 -0.844402  0.841446  1.000000  0.855583  0.447701\n",
       "MO12  0.633522 -0.818545 -0.782851  0.699677  0.855583  1.000000  0.514489\n",
       "MO14  0.412123 -0.590497 -0.726726  0.538846  0.447701  0.514489  1.000000"
      ]
     },
     "execution_count": 17,
     "metadata": {},
     "output_type": "execute_result"
    }
   ],
   "source": [
    "# Print the correlation matrix\n",
    "npop_dat.corr(method='pearson')"
   ]
  },
  {
   "cell_type": "markdown",
   "metadata": {},
   "source": [
    "The diagonal values tell us that each value is perfectly correlated with itself. We are not interested in the diagonal values and also not in the correlation with time. We also need to get rid of redundant entries. Finally, we need to find the value pairs that exhibit the highest linear correlation. We still want to know if it is positive or negative correlation, so we cannot get rid of the sign."
   ]
  },
  {
   "cell_type": "code",
   "execution_count": 33,
   "metadata": {},
   "outputs": [
    {
     "data": {
      "text/html": [
       "<div>\n",
       "<style scoped>\n",
       "    .dataframe tbody tr th:only-of-type {\n",
       "        vertical-align: middle;\n",
       "    }\n",
       "\n",
       "    .dataframe tbody tr th {\n",
       "        vertical-align: top;\n",
       "    }\n",
       "\n",
       "    .dataframe thead th {\n",
       "        text-align: right;\n",
       "    }\n",
       "</style>\n",
       "<table border=\"1\" class=\"dataframe\">\n",
       "  <thead>\n",
       "    <tr style=\"text-align: right;\">\n",
       "      <th></th>\n",
       "      <th>level_0</th>\n",
       "      <th>level_1</th>\n",
       "      <th>0</th>\n",
       "    </tr>\n",
       "  </thead>\n",
       "  <tbody>\n",
       "    <tr>\n",
       "      <th>0</th>\n",
       "      <td>MO3</td>\n",
       "      <td>MO4</td>\n",
       "      <td>0.926317</td>\n",
       "    </tr>\n",
       "    <tr>\n",
       "      <th>1</th>\n",
       "      <td>MO3</td>\n",
       "      <td>MO6</td>\n",
       "      <td>-0.907659</td>\n",
       "    </tr>\n",
       "    <tr>\n",
       "      <th>2</th>\n",
       "      <td>MO3</td>\n",
       "      <td>MO11</td>\n",
       "      <td>-0.966070</td>\n",
       "    </tr>\n",
       "    <tr>\n",
       "      <th>3</th>\n",
       "      <td>MO3</td>\n",
       "      <td>MO12</td>\n",
       "      <td>-0.818545</td>\n",
       "    </tr>\n",
       "    <tr>\n",
       "      <th>4</th>\n",
       "      <td>MO3</td>\n",
       "      <td>MO14</td>\n",
       "      <td>-0.590497</td>\n",
       "    </tr>\n",
       "    <tr>\n",
       "      <th>5</th>\n",
       "      <td>MO4</td>\n",
       "      <td>MO3</td>\n",
       "      <td>0.926317</td>\n",
       "    </tr>\n",
       "    <tr>\n",
       "      <th>6</th>\n",
       "      <td>MO4</td>\n",
       "      <td>MO6</td>\n",
       "      <td>-0.964051</td>\n",
       "    </tr>\n",
       "    <tr>\n",
       "      <th>7</th>\n",
       "      <td>MO4</td>\n",
       "      <td>MO11</td>\n",
       "      <td>-0.844402</td>\n",
       "    </tr>\n",
       "    <tr>\n",
       "      <th>8</th>\n",
       "      <td>MO4</td>\n",
       "      <td>MO12</td>\n",
       "      <td>-0.782851</td>\n",
       "    </tr>\n",
       "    <tr>\n",
       "      <th>9</th>\n",
       "      <td>MO4</td>\n",
       "      <td>MO14</td>\n",
       "      <td>-0.726726</td>\n",
       "    </tr>\n",
       "    <tr>\n",
       "      <th>10</th>\n",
       "      <td>MO6</td>\n",
       "      <td>MO3</td>\n",
       "      <td>-0.907659</td>\n",
       "    </tr>\n",
       "    <tr>\n",
       "      <th>11</th>\n",
       "      <td>MO6</td>\n",
       "      <td>MO4</td>\n",
       "      <td>-0.964051</td>\n",
       "    </tr>\n",
       "    <tr>\n",
       "      <th>12</th>\n",
       "      <td>MO6</td>\n",
       "      <td>MO11</td>\n",
       "      <td>0.841446</td>\n",
       "    </tr>\n",
       "    <tr>\n",
       "      <th>13</th>\n",
       "      <td>MO6</td>\n",
       "      <td>MO12</td>\n",
       "      <td>0.699677</td>\n",
       "    </tr>\n",
       "    <tr>\n",
       "      <th>14</th>\n",
       "      <td>MO6</td>\n",
       "      <td>MO14</td>\n",
       "      <td>0.538846</td>\n",
       "    </tr>\n",
       "    <tr>\n",
       "      <th>15</th>\n",
       "      <td>MO11</td>\n",
       "      <td>MO3</td>\n",
       "      <td>-0.966070</td>\n",
       "    </tr>\n",
       "    <tr>\n",
       "      <th>16</th>\n",
       "      <td>MO11</td>\n",
       "      <td>MO4</td>\n",
       "      <td>-0.844402</td>\n",
       "    </tr>\n",
       "    <tr>\n",
       "      <th>17</th>\n",
       "      <td>MO11</td>\n",
       "      <td>MO6</td>\n",
       "      <td>0.841446</td>\n",
       "    </tr>\n",
       "    <tr>\n",
       "      <th>18</th>\n",
       "      <td>MO11</td>\n",
       "      <td>MO12</td>\n",
       "      <td>0.855583</td>\n",
       "    </tr>\n",
       "    <tr>\n",
       "      <th>19</th>\n",
       "      <td>MO11</td>\n",
       "      <td>MO14</td>\n",
       "      <td>0.447701</td>\n",
       "    </tr>\n",
       "    <tr>\n",
       "      <th>20</th>\n",
       "      <td>MO12</td>\n",
       "      <td>MO3</td>\n",
       "      <td>-0.818545</td>\n",
       "    </tr>\n",
       "    <tr>\n",
       "      <th>21</th>\n",
       "      <td>MO12</td>\n",
       "      <td>MO4</td>\n",
       "      <td>-0.782851</td>\n",
       "    </tr>\n",
       "    <tr>\n",
       "      <th>22</th>\n",
       "      <td>MO12</td>\n",
       "      <td>MO6</td>\n",
       "      <td>0.699677</td>\n",
       "    </tr>\n",
       "    <tr>\n",
       "      <th>23</th>\n",
       "      <td>MO12</td>\n",
       "      <td>MO11</td>\n",
       "      <td>0.855583</td>\n",
       "    </tr>\n",
       "    <tr>\n",
       "      <th>24</th>\n",
       "      <td>MO12</td>\n",
       "      <td>MO14</td>\n",
       "      <td>0.514489</td>\n",
       "    </tr>\n",
       "    <tr>\n",
       "      <th>25</th>\n",
       "      <td>MO14</td>\n",
       "      <td>MO3</td>\n",
       "      <td>-0.590497</td>\n",
       "    </tr>\n",
       "    <tr>\n",
       "      <th>26</th>\n",
       "      <td>MO14</td>\n",
       "      <td>MO4</td>\n",
       "      <td>-0.726726</td>\n",
       "    </tr>\n",
       "    <tr>\n",
       "      <th>27</th>\n",
       "      <td>MO14</td>\n",
       "      <td>MO6</td>\n",
       "      <td>0.538846</td>\n",
       "    </tr>\n",
       "    <tr>\n",
       "      <th>28</th>\n",
       "      <td>MO14</td>\n",
       "      <td>MO11</td>\n",
       "      <td>0.447701</td>\n",
       "    </tr>\n",
       "    <tr>\n",
       "      <th>29</th>\n",
       "      <td>MO14</td>\n",
       "      <td>MO12</td>\n",
       "      <td>0.514489</td>\n",
       "    </tr>\n",
       "  </tbody>\n",
       "</table>\n",
       "</div>"
      ],
      "text/plain": [
       "   level_0 level_1         0\n",
       "0      MO3     MO4  0.926317\n",
       "1      MO3     MO6 -0.907659\n",
       "2      MO3    MO11 -0.966070\n",
       "3      MO3    MO12 -0.818545\n",
       "4      MO3    MO14 -0.590497\n",
       "5      MO4     MO3  0.926317\n",
       "6      MO4     MO6 -0.964051\n",
       "7      MO4    MO11 -0.844402\n",
       "8      MO4    MO12 -0.782851\n",
       "9      MO4    MO14 -0.726726\n",
       "10     MO6     MO3 -0.907659\n",
       "11     MO6     MO4 -0.964051\n",
       "12     MO6    MO11  0.841446\n",
       "13     MO6    MO12  0.699677\n",
       "14     MO6    MO14  0.538846\n",
       "15    MO11     MO3 -0.966070\n",
       "16    MO11     MO4 -0.844402\n",
       "17    MO11     MO6  0.841446\n",
       "18    MO11    MO12  0.855583\n",
       "19    MO11    MO14  0.447701\n",
       "20    MO12     MO3 -0.818545\n",
       "21    MO12     MO4 -0.782851\n",
       "22    MO12     MO6  0.699677\n",
       "23    MO12    MO11  0.855583\n",
       "24    MO12    MO14  0.514489\n",
       "25    MO14     MO3 -0.590497\n",
       "26    MO14     MO4 -0.726726\n",
       "27    MO14     MO6  0.538846\n",
       "28    MO14    MO11  0.447701\n",
       "29    MO14    MO12  0.514489"
      ]
     },
     "execution_count": 33,
     "metadata": {},
     "output_type": "execute_result"
    }
   ],
   "source": [
    "# Calculate the correlation matrix without the time column\n",
    "corr_matrix = npop_dat.drop(columns=['time']).corr(method='pearson')\n",
    "\n",
    "# Set the diagonal elements of the correlation matrix to None\n",
    "for i in range(corr_matrix.shape[0]):\n",
    "    corr_matrix.iloc[i, i] = None\n",
    "\n",
    "# Stack the correlation matrix, remove duplicates and reset the index\n",
    "corr_matrix = corr_matrix.stack().reset_index()\n"
   ]
  },
  {
   "cell_type": "code",
   "execution_count": 35,
   "metadata": {
    "scrolled": true
   },
   "outputs": [
    {
     "data": {
      "text/html": [
       "<div>\n",
       "<style scoped>\n",
       "    .dataframe tbody tr th:only-of-type {\n",
       "        vertical-align: middle;\n",
       "    }\n",
       "\n",
       "    .dataframe tbody tr th {\n",
       "        vertical-align: top;\n",
       "    }\n",
       "\n",
       "    .dataframe thead th {\n",
       "        text-align: right;\n",
       "    }\n",
       "</style>\n",
       "<table border=\"1\" class=\"dataframe\">\n",
       "  <thead>\n",
       "    <tr style=\"text-align: right;\">\n",
       "      <th></th>\n",
       "      <th>var1</th>\n",
       "      <th>var2</th>\n",
       "      <th>corr</th>\n",
       "    </tr>\n",
       "  </thead>\n",
       "  <tbody>\n",
       "    <tr>\n",
       "      <th>0</th>\n",
       "      <td>MO11</td>\n",
       "      <td>MO3</td>\n",
       "      <td>-0.966070</td>\n",
       "    </tr>\n",
       "    <tr>\n",
       "      <th>1</th>\n",
       "      <td>MO3</td>\n",
       "      <td>MO11</td>\n",
       "      <td>-0.966070</td>\n",
       "    </tr>\n",
       "    <tr>\n",
       "      <th>2</th>\n",
       "      <td>MO6</td>\n",
       "      <td>MO4</td>\n",
       "      <td>-0.964051</td>\n",
       "    </tr>\n",
       "    <tr>\n",
       "      <th>3</th>\n",
       "      <td>MO4</td>\n",
       "      <td>MO6</td>\n",
       "      <td>-0.964051</td>\n",
       "    </tr>\n",
       "    <tr>\n",
       "      <th>4</th>\n",
       "      <td>MO4</td>\n",
       "      <td>MO3</td>\n",
       "      <td>0.926317</td>\n",
       "    </tr>\n",
       "    <tr>\n",
       "      <th>5</th>\n",
       "      <td>MO3</td>\n",
       "      <td>MO4</td>\n",
       "      <td>0.926317</td>\n",
       "    </tr>\n",
       "    <tr>\n",
       "      <th>6</th>\n",
       "      <td>MO6</td>\n",
       "      <td>MO3</td>\n",
       "      <td>-0.907659</td>\n",
       "    </tr>\n",
       "    <tr>\n",
       "      <th>7</th>\n",
       "      <td>MO3</td>\n",
       "      <td>MO6</td>\n",
       "      <td>-0.907659</td>\n",
       "    </tr>\n",
       "    <tr>\n",
       "      <th>8</th>\n",
       "      <td>MO11</td>\n",
       "      <td>MO12</td>\n",
       "      <td>0.855583</td>\n",
       "    </tr>\n",
       "    <tr>\n",
       "      <th>9</th>\n",
       "      <td>MO12</td>\n",
       "      <td>MO11</td>\n",
       "      <td>0.855583</td>\n",
       "    </tr>\n",
       "    <tr>\n",
       "      <th>10</th>\n",
       "      <td>MO4</td>\n",
       "      <td>MO11</td>\n",
       "      <td>-0.844402</td>\n",
       "    </tr>\n",
       "    <tr>\n",
       "      <th>11</th>\n",
       "      <td>MO11</td>\n",
       "      <td>MO4</td>\n",
       "      <td>-0.844402</td>\n",
       "    </tr>\n",
       "    <tr>\n",
       "      <th>12</th>\n",
       "      <td>MO6</td>\n",
       "      <td>MO11</td>\n",
       "      <td>0.841446</td>\n",
       "    </tr>\n",
       "    <tr>\n",
       "      <th>13</th>\n",
       "      <td>MO11</td>\n",
       "      <td>MO6</td>\n",
       "      <td>0.841446</td>\n",
       "    </tr>\n",
       "    <tr>\n",
       "      <th>14</th>\n",
       "      <td>MO3</td>\n",
       "      <td>MO12</td>\n",
       "      <td>-0.818545</td>\n",
       "    </tr>\n",
       "    <tr>\n",
       "      <th>15</th>\n",
       "      <td>MO12</td>\n",
       "      <td>MO3</td>\n",
       "      <td>-0.818545</td>\n",
       "    </tr>\n",
       "    <tr>\n",
       "      <th>16</th>\n",
       "      <td>MO4</td>\n",
       "      <td>MO12</td>\n",
       "      <td>-0.782851</td>\n",
       "    </tr>\n",
       "    <tr>\n",
       "      <th>17</th>\n",
       "      <td>MO12</td>\n",
       "      <td>MO4</td>\n",
       "      <td>-0.782851</td>\n",
       "    </tr>\n",
       "    <tr>\n",
       "      <th>18</th>\n",
       "      <td>MO14</td>\n",
       "      <td>MO4</td>\n",
       "      <td>-0.726726</td>\n",
       "    </tr>\n",
       "    <tr>\n",
       "      <th>19</th>\n",
       "      <td>MO4</td>\n",
       "      <td>MO14</td>\n",
       "      <td>-0.726726</td>\n",
       "    </tr>\n",
       "    <tr>\n",
       "      <th>20</th>\n",
       "      <td>MO6</td>\n",
       "      <td>MO12</td>\n",
       "      <td>0.699677</td>\n",
       "    </tr>\n",
       "    <tr>\n",
       "      <th>21</th>\n",
       "      <td>MO12</td>\n",
       "      <td>MO6</td>\n",
       "      <td>0.699677</td>\n",
       "    </tr>\n",
       "    <tr>\n",
       "      <th>22</th>\n",
       "      <td>MO14</td>\n",
       "      <td>MO3</td>\n",
       "      <td>-0.590497</td>\n",
       "    </tr>\n",
       "    <tr>\n",
       "      <th>23</th>\n",
       "      <td>MO3</td>\n",
       "      <td>MO14</td>\n",
       "      <td>-0.590497</td>\n",
       "    </tr>\n",
       "    <tr>\n",
       "      <th>24</th>\n",
       "      <td>MO6</td>\n",
       "      <td>MO14</td>\n",
       "      <td>0.538846</td>\n",
       "    </tr>\n",
       "    <tr>\n",
       "      <th>25</th>\n",
       "      <td>MO14</td>\n",
       "      <td>MO6</td>\n",
       "      <td>0.538846</td>\n",
       "    </tr>\n",
       "    <tr>\n",
       "      <th>26</th>\n",
       "      <td>MO12</td>\n",
       "      <td>MO14</td>\n",
       "      <td>0.514489</td>\n",
       "    </tr>\n",
       "    <tr>\n",
       "      <th>27</th>\n",
       "      <td>MO14</td>\n",
       "      <td>MO12</td>\n",
       "      <td>0.514489</td>\n",
       "    </tr>\n",
       "    <tr>\n",
       "      <th>28</th>\n",
       "      <td>MO11</td>\n",
       "      <td>MO14</td>\n",
       "      <td>0.447701</td>\n",
       "    </tr>\n",
       "    <tr>\n",
       "      <th>29</th>\n",
       "      <td>MO14</td>\n",
       "      <td>MO11</td>\n",
       "      <td>0.447701</td>\n",
       "    </tr>\n",
       "  </tbody>\n",
       "</table>\n",
       "</div>"
      ],
      "text/plain": [
       "    var1  var2      corr\n",
       "0   MO11   MO3 -0.966070\n",
       "1    MO3  MO11 -0.966070\n",
       "2    MO6   MO4 -0.964051\n",
       "3    MO4   MO6 -0.964051\n",
       "4    MO4   MO3  0.926317\n",
       "5    MO3   MO4  0.926317\n",
       "6    MO6   MO3 -0.907659\n",
       "7    MO3   MO6 -0.907659\n",
       "8   MO11  MO12  0.855583\n",
       "9   MO12  MO11  0.855583\n",
       "10   MO4  MO11 -0.844402\n",
       "11  MO11   MO4 -0.844402\n",
       "12   MO6  MO11  0.841446\n",
       "13  MO11   MO6  0.841446\n",
       "14   MO3  MO12 -0.818545\n",
       "15  MO12   MO3 -0.818545\n",
       "16   MO4  MO12 -0.782851\n",
       "17  MO12   MO4 -0.782851\n",
       "18  MO14   MO4 -0.726726\n",
       "19   MO4  MO14 -0.726726\n",
       "20   MO6  MO12  0.699677\n",
       "21  MO12   MO6  0.699677\n",
       "22  MO14   MO3 -0.590497\n",
       "23   MO3  MO14 -0.590497\n",
       "24   MO6  MO14  0.538846\n",
       "25  MO14   MO6  0.538846\n",
       "26  MO12  MO14  0.514489\n",
       "27  MO14  MO12  0.514489\n",
       "28  MO11  MO14  0.447701\n",
       "29  MO14  MO11  0.447701"
      ]
     },
     "execution_count": 35,
     "metadata": {},
     "output_type": "execute_result"
    }
   ],
   "source": [
    "# Get rid of the time column, lower triangular and diagonal entries of the correlation matrix\n",
    "# Sort the remaing values according to their absolute value, but keep the sign\n",
    "\n",
    "# Calculate the correlation matrix without the time column\n",
    "corr_matrix = npop_dat.drop(columns=['time']).corr(method='pearson')\n",
    "\n",
    "# Set the diagonal elements of the correlation matrix to None\n",
    "for i in range(corr_matrix.shape[0]):\n",
    "    corr_matrix.iloc[i, i] = None\n",
    "\n",
    "# Stack the correlation matrix into a table, remove duplicates and reset the index\n",
    "corr_table = corr_matrix.stack().reset_index()\n",
    "\n",
    "# Set the column names for the table\n",
    "corr_table.columns = ['var1', 'var2', 'corr']\n",
    "\n",
    "# Sort the table by the absolute correlation values, reset the index for readability of display\n",
    "corr_table = corr_table.sort_values(by='corr', ascending=False, key=abs).reset_index(drop=True)\n",
    "\n",
    "# Print the correlation table\n",
    "corr_table"
   ]
  },
  {
   "cell_type": "markdown",
   "metadata": {},
   "source": [
    "Note that the entries in the left column are not repeated if they do not change from the row above (so the fourth feature pair is MO3 and MO6)."
   ]
  },
  {
   "cell_type": "markdown",
   "metadata": {},
   "source": [
    "### Task 4: Print the resulting data to a file"
   ]
  },
  {
   "cell_type": "code",
   "execution_count": 36,
   "metadata": {},
   "outputs": [],
   "source": [
    "# Print the correlation table to a file\n",
    "corr_table.to_csv('../results/npop_correlations.dat', sep='\\t', index=False)"
   ]
  },
  {
   "cell_type": "markdown",
   "metadata": {},
   "source": [
    "### Task 5: Calculate the Euclidean distance (L2 norm) for the vectors in `table.dat`\n",
    "\n",
    "\n",
    "The Euclidean distance measures the distance between to objects that are not points:\n",
    "\n",
    "$d(p,q) = \\sqrt{\\left(p-q\\right)^2}$\n",
    "\n",
    "In this case, consider each of the columns in table.dat as a vector in Euclidean space, where column $r(x)$ and column $v(x)$ denote a pair of vectors that should be compared, as well as $r(y)$ and $v(y)$, and r(z) and v(z).\n",
    "\n",
    "(Background: These are dipole moment components in different gauges, the length and velocity gauge.)"
   ]
  },
  {
   "cell_type": "code",
   "execution_count": 36,
   "metadata": {},
   "outputs": [
    {
     "name": "stdout",
     "output_type": "stream",
     "text": [
      "('i', 'j', 'rx', 'vx', 'ry', 'vy', 'rz', 'vz')\n"
     ]
    }
   ],
   "source": [
    "# read in table.dat - I suggest reading it as a numpy array\n",
    "# replace the NaNs by zero\n",
    "table_dat = np.genfromtxt('../data/table.dat', names=True)\n",
    "table_dat = np.nan_to_num(table_dat)\n",
    "\n",
    "print(table_dat.dtype.names) "
   ]
  },
  {
   "cell_type": "markdown",
   "metadata": {},
   "source": [
    "Now calculate how different the vectors in column 2 are from column 3, column 4 from column 5, and column 6 from column 7."
   ]
  },
  {
   "cell_type": "code",
   "execution_count": 37,
   "metadata": {},
   "outputs": [],
   "source": [
    "# calculate the Euclidean distance\n",
    "def Euclidean_distance(v1, v2):\n",
    "    distance = np.sum((v1-v2)**2)\n",
    "    return distance\n",
    "\n",
    "# Split of table_dat accoding to names and calculate corresponding distances\n",
    "rx = table_dat['rx']\n",
    "vx = table_dat['vx']\n",
    "x_distance = Euclidean_distance(rx, vx) \n",
    "\n",
    "ry = table_dat['ry']\n",
    "vy = table_dat['vy']\n",
    "y_distance = Euclidean_distance(ry, vy) \n",
    "\n",
    "\n",
    "rz = table_dat['rz']\n",
    "vz = table_dat['vz']\n",
    "z_distance = Euclidean_distance(rz, vz) \n"
   ]
  },
  {
   "cell_type": "code",
   "execution_count": 15,
   "metadata": {},
   "outputs": [],
   "source": [
    "# plot the result and save to a .pdf"
   ]
  },
  {
   "cell_type": "code",
   "execution_count": 16,
   "metadata": {},
   "outputs": [],
   "source": [
    "# print the result to a file"
   ]
  },
  {
   "cell_type": "markdown",
   "metadata": {},
   "source": [
    "# Numerical analysis\n",
    "\n",
    "Analyze the data using autocorrelation functions and discrete Fourier transforms. Plot your results."
   ]
  },
  {
   "cell_type": "code",
   "execution_count": 17,
   "metadata": {},
   "outputs": [],
   "source": [
    "# define some global functions"
   ]
  },
  {
   "cell_type": "markdown",
   "metadata": {},
   "source": [
    "### Task 1: Read in `efield.t` and Fourier-transform relevant columns"
   ]
  },
  {
   "cell_type": "code",
   "execution_count": 18,
   "metadata": {},
   "outputs": [],
   "source": [
    "# read and plot efield.t"
   ]
  },
  {
   "cell_type": "markdown",
   "metadata": {},
   "source": [
    "Here we are interested in column 2 since the others are constant."
   ]
  },
  {
   "cell_type": "code",
   "execution_count": 19,
   "metadata": {},
   "outputs": [],
   "source": [
    "# discard the columns with variance below threshold - these are considered constant"
   ]
  },
  {
   "cell_type": "code",
   "execution_count": 20,
   "metadata": {},
   "outputs": [],
   "source": [
    "# discrete Fourier transform of the remaining column: You only need the real frequencies"
   ]
  },
  {
   "cell_type": "markdown",
   "metadata": {},
   "source": [
    "### Task 2: Generate a plot of your results to be saved as pdf."
   ]
  },
  {
   "cell_type": "code",
   "execution_count": 21,
   "metadata": {},
   "outputs": [],
   "source": [
    "# plot your results"
   ]
  },
  {
   "cell_type": "markdown",
   "metadata": {},
   "source": [
    "### Task 3: Calculate the autocorrelation function from nstate_i.t\n",
    "The autocorrelation function measures how correlated subsequent vectors are with an initial vector; ie. \n",
    "\n",
    "$\\Psi_{corr} = \\langle \\Psi(t=0) | \\Psi(t) \\rangle = \\int_0^{tfin} \\Psi(0)^* \\Psi(t) dt$\n",
    "\n",
    "Since we are in a numerical representation, the integral can be replaced with a sum; and the given vectors are already normalized."
   ]
  },
  {
   "cell_type": "code",
   "execution_count": 22,
   "metadata": {},
   "outputs": [],
   "source": [
    "# read in as numpy array"
   ]
  },
  {
   "cell_type": "code",
   "execution_count": 23,
   "metadata": {},
   "outputs": [],
   "source": [
    "# store the time column (column 0) in a vector and drop from array"
   ]
  },
  {
   "cell_type": "code",
   "execution_count": 24,
   "metadata": {},
   "outputs": [],
   "source": [
    "# correct the data representation: this is in fact a complex matrix\n",
    "# the real part of each matrix column is contained in numpy array column 0, 2, 4, 6, ...\n",
    "# the imaginary part of each matrix column is contained in numpy array column 1, 3, 5, 7, ...\n",
    "# convert the array that was read as dtype=float into a dtype=complex array"
   ]
  },
  {
   "cell_type": "code",
   "execution_count": 25,
   "metadata": {},
   "outputs": [],
   "source": [
    "# for the autocorrelation function, we want the overlap between the first vector at time 0 and all\n",
    "# subsequent vectors at later times - the sum of the product of initial and subsequent vectors for each time step"
   ]
  },
  {
   "cell_type": "markdown",
   "metadata": {},
   "source": [
    "### Task 4: Generate a plot of your results to be saved as pdf."
   ]
  },
  {
   "cell_type": "code",
   "execution_count": 26,
   "metadata": {},
   "outputs": [],
   "source": [
    "# plot the autocorrelation function - real, imaginary and absolute part"
   ]
  },
  {
   "cell_type": "markdown",
   "metadata": {},
   "source": [
    "### Task 5: Discrete Fourier transform of the autocorrelation function"
   ]
  },
  {
   "cell_type": "code",
   "execution_count": 27,
   "metadata": {},
   "outputs": [],
   "source": [
    "# discrete Fourier-transform the autocorrelation function - now we need all frequency components,\n",
    "# also the negative ones"
   ]
  },
  {
   "cell_type": "markdown",
   "metadata": {},
   "source": [
    "### Task 6: Generate a plot of your results to be saved as pdf."
   ]
  },
  {
   "cell_type": "code",
   "execution_count": 28,
   "metadata": {},
   "outputs": [],
   "source": [
    "# plot the power spectrum (abs**2)"
   ]
  }
 ],
 "metadata": {
  "kernelspec": {
   "display_name": "Python 3 (ipykernel)",
   "language": "python",
   "name": "python3"
  },
  "language_info": {
   "codemirror_mode": {
    "name": "ipython",
    "version": 3
   },
   "file_extension": ".py",
   "mimetype": "text/x-python",
   "name": "python",
   "nbconvert_exporter": "python",
   "pygments_lexer": "ipython3",
   "version": "3.7.6"
  }
 },
 "nbformat": 4,
 "nbformat_minor": 4
}
